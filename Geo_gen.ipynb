{
 "cells": [
  {
   "cell_type": "markdown",
   "id": "ab4c9bd6",
   "metadata": {},
   "source": [
    "# Generate 10 PCs of Geo"
   ]
  },
  {
   "cell_type": "code",
   "execution_count": 1,
   "id": "f0337dda",
   "metadata": {
    "scrolled": true
   },
   "outputs": [
    {
     "data": {
      "image/png": "[encoded data removed]",
      "text/plain": [
       "<Figure size 432x288 with 1 Axes>"
      ]
     },
     "metadata": {
      "needs_background": "light"
     },
     "output_type": "display_data"
    }
   ],
   "source": [
    "import matplotlib.pyplot as plt\n",
    "import optunity\n",
    "import random\n",
    "import numpy as np\n",
    "import pandas as pd\n",
    "\n",
    "def f(x1,x2,x3,x4,x5,x6,x7,x8,x9,x10,x11,x12,x13,x14,x15):\n",
    "    return 0.0\n",
    "\n",
    "_, info_random, _ = optunity.minimize(f, num_evals=3000, x1=[-50, 50], x2=[-20, 20], x3=[-20, 20], x4=[-20, 20],\n",
    "                                      x5=[-20, 20], x6=[-20, 20],x7=[-10, 10], x8=[-10, 10],x9=[-10, 10],x10=[-10, 10],\n",
    "                                      x11=[np.log(0.05), np.log(5)], x12=[np.log(0.1), np.log(5)], x13=[np.log(0.1), np.log(5)], x14=[np.log(0.1), np.log(5)],x15=[np.log(10),np.log(30)]\n",
    "#                                       , x11=[-5, 5],x12=[-5, 5],x13=[-5, 5],x14=[-5, 5],x15=[-5, 5],x16=[-5, 5],x17=[-5, 5],x18=[-5, 5],x19=[-5, 5],\n",
    "#                                       x20=[-5, 5],x21=[-5, 5],x22=[-5, 5],x23=[-5, 5],x24=[-5, 5],x25=[-5, 5]\n",
    "                                      ,solver_name='sobol')\n",
    "plt.plot(info_random.call_log['args']['x1'], info_random.call_log['args']['x2'], 'bo')\n",
    "plt.xlabel('x3')\n",
    "plt.ylabel('x2')\n",
    "plt.title('sobo')\n",
    "plt.show()"
   ]
  },
  {
   "cell_type": "code",
   "execution_count": 2,
   "id": "d7d9843f",
   "metadata": {},
   "outputs": [],
   "source": [
    "soboldata= pd.DataFrame(info_random.call_log['args'])"
   ]
  },
  {
   "cell_type": "code",
   "execution_count": 3,
   "id": "a2f9e294",
   "metadata": {},
   "outputs": [],
   "source": [
    "soboldata=soboldata.rename(columns={'x1':'PC1','x2':'PC2','x3':'PC3','x4':'PC4','x5':'PC5','x6':'PC6',\n",
    "                         'x7':'PC7','x8':'PC8','x9':'PC9','x10':'PC10','x11':'a','x12':'b','x13':'af','x14':'bf','x15':'pressure'\n",
    "#                                     ,'x11':'PC11','x12':'PC12','x13':'PC13',\n",
    "#                                     'x14':'PC14','x15':'PC15','x16':'PC16','x17':'PC17',\n",
    "#                          'x18':'PC18','x19':'PC19','x20':'PC20','x21':'PC21','x22':'PC22',\n",
    "#                                    'x23':'PC23','x24':'PC24','x25':'PC25'\n",
    "                                   })"
   ]
  },
  {
   "cell_type": "code",
   "execution_count": 4,
   "id": "0a6f630f",
   "metadata": {},
   "outputs": [],
   "source": [
    "order1=['PC1','PC2','PC3','PC4','PC5','PC6','PC7','PC8','PC9','PC10',\n",
    "#       'PC11','PC12','PC13','PC14','PC15','PC16','PC17','PC18','PC19','PC20',\n",
    "#       'PC21','PC22','PC23','PC24','PC25'\n",
    "      ]\n",
    "order2=['a','b','af','bf','pressure']\n",
    "soboldata1=soboldata[order1]\n",
    "soboldata2=soboldata[order2]\n",
    "# soboldata.to_csv('geo_10PCs.txt',sep=',',index=None)"
   ]
  },
  {
   "cell_type": "code",
   "execution_count": 9,
   "id": "d43707d4",
   "metadata": {
    "scrolled": true
   },
   "outputs": [
    {
     "data": {
      "text/html": [
       "<div>\n",
       "<style scoped>\n",
       "    .dataframe tbody tr th:only-of-type {\n",
       "        vertical-align: middle;\n",
       "    }\n",
       "\n",
       "    .dataframe tbody tr th {\n",
       "        vertical-align: top;\n",
       "    }\n",
       "\n",
       "    .dataframe thead th {\n",
       "        text-align: right;\n",
       "    }\n",
       "</style>\n",
       "<table border=\"1\" class=\"dataframe\">\n",
       "  <thead>\n",
       "    <tr style=\"text-align: right;\">\n",
       "      <th></th>\n",
       "      <th>a</th>\n",
       "      <th>b</th>\n",
       "      <th>af</th>\n",
       "      <th>bf</th>\n",
       "      <th>pressure</th>\n",
       "    </tr>\n",
       "  </thead>\n",
       "  <tbody>\n",
       "    <tr>\n",
       "      <th>0</th>\n",
       "      <td>4.371497</td>\n",
       "      <td>1.759307</td>\n",
       "      <td>0.911038</td>\n",
       "      <td>1.075992</td>\n",
       "      <td>12.554314</td>\n",
       "    </tr>\n",
       "    <tr>\n",
       "      <th>1</th>\n",
       "      <td>0.253006</td>\n",
       "      <td>0.411717</td>\n",
       "      <td>0.561421</td>\n",
       "      <td>1.746050</td>\n",
       "      <td>14.382578</td>\n",
       "    </tr>\n",
       "    <tr>\n",
       "      <th>2</th>\n",
       "      <td>2.472465</td>\n",
       "      <td>2.854889</td>\n",
       "      <td>3.892952</td>\n",
       "      <td>0.251806</td>\n",
       "      <td>24.774892</td>\n",
       "    </tr>\n",
       "    <tr>\n",
       "      <th>3</th>\n",
       "      <td>0.080934</td>\n",
       "      <td>1.084162</td>\n",
       "      <td>0.213203</td>\n",
       "      <td>0.663073</td>\n",
       "      <td>10.958453</td>\n",
       "    </tr>\n",
       "    <tr>\n",
       "      <th>4</th>\n",
       "      <td>0.790916</td>\n",
       "      <td>0.156352</td>\n",
       "      <td>1.478373</td>\n",
       "      <td>4.597817</td>\n",
       "      <td>18.876621</td>\n",
       "    </tr>\n",
       "  </tbody>\n",
       "</table>\n",
       "</div>"
      ],
      "text/plain": [
       "          a         b        af        bf   pressure\n",
       "0  4.371497  1.759307  0.911038  1.075992  12.554314\n",
       "1  0.253006  0.411717  0.561421  1.746050  14.382578\n",
       "2  2.472465  2.854889  3.892952  0.251806  24.774892\n",
       "3  0.080934  1.084162  0.213203  0.663073  10.958453\n",
       "4  0.790916  0.156352  1.478373  4.597817  18.876621"
      ]
     },
     "execution_count": 9,
     "metadata": {},
     "output_type": "execute_result"
    }
   ],
   "source": [
    "soboldata2.head()"
   ]
  },
  {
   "cell_type": "code",
   "execution_count": 8,
   "id": "6f018cfd",
   "metadata": {},
   "outputs": [],
   "source": [
    "soboldata2=np.exp(soboldata2)"
   ]
  },
  {
   "cell_type": "markdown",
   "id": "f1fb4d93",
   "metadata": {},
   "source": [
    "# Generate new Geo dataset"
   ]
  },
  {
   "cell_type": "code",
   "execution_count": 10,
   "id": "2de706ae",
   "metadata": {},
   "outputs": [],
   "source": [
    "lv= pd.read_csv('UsedMeshesDat.txt',sep=',',header=None)\n",
    "lv=lv.values"
   ]
  },
  {
   "cell_type": "code",
   "execution_count": 11,
   "id": "07fc7837",
   "metadata": {
    "scrolled": false
   },
   "outputs": [
    {
     "name": "stderr",
     "output_type": "stream",
     "text": [
      "C:\\Users\\Yuzhang Ge\\anaconda3\\envs\\newenv\\lib\\site-packages\\scipy\\__init__.py:146: UserWarning: A NumPy version >=1.16.5 and <1.23.0 is required for this version of SciPy (detected version 1.23.3\n",
      "  warnings.warn(f\"A NumPy version >={np_minversion} and <{np_maxversion}\"\n"
     ]
    }
   ],
   "source": [
    "from sklearn.decomposition import PCA\n",
    "\n",
    "pca = PCA(n_components=10)\n",
    "pca.fit(lv)\n",
    "lv_pc=pca.transform(lv)"
   ]
  },
  {
   "cell_type": "code",
   "execution_count": 12,
   "id": "59c783fe",
   "metadata": {
    "scrolled": true
   },
   "outputs": [
    {
     "data": {
      "text/plain": [
       "0.9519056230641639"
      ]
     },
     "execution_count": 12,
     "metadata": {},
     "output_type": "execute_result"
    }
   ],
   "source": [
    "np.sum(pca.explained_variance_ratio_)"
   ]
  },
  {
   "cell_type": "code",
   "execution_count": 13,
   "id": "416acdc5",
   "metadata": {},
   "outputs": [],
   "source": [
    "geo_pc=soboldata1.values\n",
    "lv_new=pca.inverse_transform(geo_pc)"
   ]
  },
  {
   "cell_type": "code",
   "execution_count": 14,
   "id": "c09959be",
   "metadata": {},
   "outputs": [
    {
     "data": {
      "text/plain": [
       "(3000, 17376)"
      ]
     },
     "execution_count": 14,
     "metadata": {},
     "output_type": "execute_result"
    }
   ],
   "source": [
    "lv_new.shape"
   ]
  },
  {
   "cell_type": "markdown",
   "id": "395c8402",
   "metadata": {},
   "source": [
    "# Geo Check"
   ]
  },
  {
   "cell_type": "code",
   "execution_count": 15,
   "id": "7f8df42a",
   "metadata": {
    "scrolled": true
   },
   "outputs": [],
   "source": [
    "from numpy import linalg as LA\n",
    "from scipy.spatial import ConvexHull\n",
    "index=[]\n",
    "\n",
    "for m in range(len(lv_new)):\n",
    "    L1=lv_new[m].reshape(-1,3)\n",
    "    v1=L1[:2896,:]\n",
    "    v2=L1[2896:,:]\n",
    "    hull1= ConvexHull(v1)\n",
    "    hull2=ConvexHull(v2)\n",
    "    md=[]\n",
    "    \n",
    "    for i in range(len(v1)):\n",
    "        d=np.subtract(v2,v1[i])\n",
    "        dis=LA.norm(d, axis=1)\n",
    "        md.append(min(dis))\n",
    "    if min(md)<=0.1:\n",
    "        index.append(m)\n",
    "        continue\n",
    "            \n",
    "    if hull1.volume >= hull2.volume:\n",
    "        index.append(m)\n",
    "        continue\n",
    "\n",
    "\n",
    "\n",
    "    "
   ]
  },
  {
   "cell_type": "code",
   "execution_count": 16,
   "id": "98f0f706",
   "metadata": {
    "scrolled": true
   },
   "outputs": [
    {
     "data": {
      "text/plain": [
       "array([   4,   11,   20,   24,   33,   38,   44,   45,   69,   84,   85,\n",
       "        100,  108,  128,  136,  145,  158,  169,  178,  188,  189,  196,\n",
       "        212,  228,  240,  246,  262,  269,  275,  281,  288,  293,  308,\n",
       "        314,  332,  333,  348,  360,  376,  393,  406,  412,  419,  437,\n",
       "        452,  460,  477,  510,  513,  517,  520,  533,  548,  553,  560,\n",
       "        579,  593,  600,  621,  636,  637,  645,  652,  660,  676,  678,\n",
       "        684,  697,  704,  709,  748,  764,  770,  772,  776,  785,  798,\n",
       "        801,  804,  807,  828,  829,  836,  837,  852,  853,  868,  873,\n",
       "        907,  920,  940,  941,  948,  962,  980,  981,  996, 1014, 1024,\n",
       "       1036, 1037, 1044, 1070, 1076, 1080, 1089, 1120, 1125, 1140, 1156,\n",
       "       1180, 1181, 1192, 1201, 1211, 1251, 1269, 1284, 1288, 1297, 1304,\n",
       "       1324, 1332, 1340, 1354, 1365, 1380, 1385, 1392, 1398, 1405, 1428,\n",
       "       1432, 1453, 1469, 1477, 1486, 1492, 1510, 1523, 1529, 1536, 1548,\n",
       "       1549, 1564, 1565, 1601, 1606, 1612, 1619, 1625, 1632, 1637, 1652,\n",
       "       1669, 1676, 1704, 1720, 1736, 1744, 1750, 1777, 1781, 1796, 1811,\n",
       "       1824, 1829, 1844, 1845, 1860, 1868, 1869, 1908, 1912, 1921, 1926,\n",
       "       1969, 1972, 1988, 1991, 2012, 2013, 2020, 2024, 2046, 2053, 2068,\n",
       "       2069, 2084, 2096, 2112, 2120, 2129, 2162, 2172, 2173, 2180, 2181,\n",
       "       2196, 2212, 2214, 2220, 2227, 2233, 2251, 2264, 2273, 2284, 2285,\n",
       "       2292, 2306, 2317, 2320, 2332, 2333, 2344, 2369, 2372, 2377, 2384,\n",
       "       2403, 2408, 2421, 2436, 2444, 2460, 2466, 2468, 2472, 2488, 2502,\n",
       "       2521, 2528, 2533, 2548, 2554, 2568, 2574, 2584, 2604, 2620, 2621,\n",
       "       2629, 2644, 2660, 2662, 2669, 2681, 2688, 2705, 2724, 2748, 2749,\n",
       "       2756, 2767, 2773, 2782, 2788, 2793, 2806, 2812, 2819, 2836, 2837,\n",
       "       2852, 2880, 2894, 2900, 2904, 2913, 2924, 2925, 2937, 2949, 2965,\n",
       "       2980])"
      ]
     },
     "execution_count": 16,
     "metadata": {},
     "output_type": "execute_result"
    }
   ],
   "source": [
    "np.array(index)"
   ]
  },
  {
   "cell_type": "code",
   "execution_count": 17,
   "id": "de553631",
   "metadata": {
    "scrolled": true
   },
   "outputs": [
    {
     "data": {
      "text/plain": [
       "(2724, 17376)"
      ]
     },
     "execution_count": 17,
     "metadata": {},
     "output_type": "execute_result"
    }
   ],
   "source": [
    "lv_final =np.delete(lv_new,index,0)\n",
    "lv_final.shape\n"
   ]
  },
  {
   "cell_type": "code",
   "execution_count": 18,
   "id": "d6e624d8",
   "metadata": {},
   "outputs": [],
   "source": [
    "time_series_input=soboldata2.values\n",
    "time_series_input=np.delete(time_series_input,index,0)"
   ]
  },
  {
   "cell_type": "code",
   "execution_count": 19,
   "id": "78a5a597",
   "metadata": {
    "scrolled": false
   },
   "outputs": [
    {
     "data": {
      "text/plain": [
       "array([[ 4.37149676,  1.75930726,  0.91103791,  1.07599199, 12.55431403],\n",
       "       [ 0.25300562,  0.41171727,  0.56142133,  1.7460496 , 14.38257817],\n",
       "       [ 2.47246505,  2.85488904,  3.89295212,  0.2518062 , 24.77489168],\n",
       "       ...,\n",
       "       [ 2.43694642,  0.10560598,  0.23679626,  0.28447162, 14.75000364],\n",
       "       [ 0.24937102,  0.73228253,  1.64196916,  1.97255491, 25.40780505],\n",
       "       [ 0.7795536 ,  1.92829621,  0.62354804,  0.74909004, 11.2384034 ]])"
      ]
     },
     "execution_count": 19,
     "metadata": {},
     "output_type": "execute_result"
    }
   ],
   "source": [
    "time_series_input"
   ]
  },
  {
   "cell_type": "code",
   "execution_count": 27,
   "id": "ccf508b9",
   "metadata": {},
   "outputs": [],
   "source": [
    "np.savetxt('time_series_input_1820.txt',time_series_input,delimiter=',')"
   ]
  },
  {
   "cell_type": "code",
   "execution_count": 20,
   "id": "682a61f8",
   "metadata": {},
   "outputs": [],
   "source": [
    "import pickle\n",
    "pickle.dump(lv_new, open(\"lv_geo_without_check_2724.pkl\", \"wb\"))\n",
    "pickle.dump(lv_final, open(\"lv_geo_with_check_2724.pkl\", \"wb\"))"
   ]
  },
  {
   "cell_type": "code",
   "execution_count": 21,
   "id": "c38dd83f",
   "metadata": {},
   "outputs": [],
   "source": [
    "np.savetxt('lv_geo_with_check_2724.txt',lv_final,delimiter=',')"
   ]
  },
  {
   "cell_type": "markdown",
   "id": "c422a1ff",
   "metadata": {},
   "source": [
    "# DATA_pre"
   ]
  },
  {
   "cell_type": "code",
   "execution_count": 22,
   "id": "0bc915f6",
   "metadata": {},
   "outputs": [],
   "source": [
    "data=pd.read_csv('Timeseries_input_2724.txt',delimiter=',')"
   ]
  },
  {
   "cell_type": "code",
   "execution_count": 23,
   "id": "96ed5ea4",
   "metadata": {},
   "outputs": [],
   "source": [
    "data['a']=time_series_input[:,0]\n",
    "data['b']=time_series_input[:,1]\n",
    "data['af']=time_series_input[:,2]\n",
    "data['bf']=time_series_input[:,3]\n",
    "data['pressure']=time_series_input[:,4]"
   ]
  },
  {
   "cell_type": "code",
   "execution_count": 24,
   "id": "65fab1bf",
   "metadata": {},
   "outputs": [],
   "source": [
    "data.to_csv('Timeseries_input_2724.txt',index=None,sep=',')"
   ]
  },
  {
   "cell_type": "markdown",
   "id": "b69828c4",
   "metadata": {},
   "source": [
    "# Plot"
   ]
  },
  {
   "cell_type": "code",
   "execution_count": 43,
   "id": "4ac1f03d",
   "metadata": {
    "scrolled": true
   },
   "outputs": [
    {
     "data": {
      "image/png": "[encoded data removed]",
      "text/plain": [
       "<Figure size 432x288 with 1 Axes>"
      ]
     },
     "metadata": {
      "needs_background": "light"
     },
     "output_type": "display_data"
    }
   ],
   "source": [
    "import matplotlib.pyplot as plt\n",
    "\n",
    "plt.hist(time_series_input[:,3],bins=300);"
   ]
  }
 ],
 "metadata": {
  "kernelspec": {
   "display_name": "Python 3 (ipykernel)",
   "language": "python",
   "name": "python3"
  },
  "language_info": {
   "codemirror_mode": {
    "name": "ipython",
    "version": 3
   },
   "file_extension": ".py",
   "mimetype": "text/x-python",
   "name": "python",
   "nbconvert_exporter": "python",
   "pygments_lexer": "ipython3",
   "version": "3.9.0"
  }
 },
 "nbformat": 4,
 "nbformat_minor": 5
}
