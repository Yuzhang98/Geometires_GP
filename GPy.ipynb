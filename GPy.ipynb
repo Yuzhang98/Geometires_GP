{
 "cells": [
  {
   "cell_type": "code",
   "execution_count": 1,
   "id": "c0808924",
   "metadata": {},
   "outputs": [],
   "source": [
    "import pickle \n",
    "file1 = open('X_time_2000', 'rb')\n",
    "file2 = open('Y_time_2000', 'rb')\n",
    "X=pickle.load(file1)\n",
    "file1.close()\n",
    "Y=pickle.load(file2)\n",
    "file2.close()"
   ]
  },
  {
   "cell_type": "code",
   "execution_count": 8,
   "id": "7b099fce",
   "metadata": {},
   "outputs": [],
   "source": [
    "X=X[9::10,:2]\n",
    "Y=Y[9::10]"
   ]
  },
  {
   "cell_type": "code",
   "execution_count": 10,
   "id": "11abac5d",
   "metadata": {},
   "outputs": [],
   "source": [
    "X_train=X[:1200,:]\n",
    "Y_train=Y[:1200]"
   ]
  },
  {
   "cell_type": "code",
   "execution_count": 11,
   "id": "df8f1e67",
   "metadata": {},
   "outputs": [
    {
     "name": "stderr",
     "output_type": "stream",
     "text": [
      "C:\\Users\\Yuzhang Ge\\anaconda3\\envs\\newenv\\lib\\site-packages\\scipy\\__init__.py:146: UserWarning: A NumPy version >=1.16.5 and <1.23.0 is required for this version of SciPy (detected version 1.23.3\n",
      "  warnings.warn(f\"A NumPy version >={np_minversion} and <{np_maxversion}\"\n"
     ]
    }
   ],
   "source": [
    "import GPy \n",
    "import numpy as np\n",
    "import math\n",
    "k1=GPy.kern.RBF(input_dim=2,lengthscale=10.,active_dims=[0,1],ARD=True,variance=10)\n",
    "\n",
    "k=k1"
   ]
  },
  {
   "cell_type": "code",
   "execution_count": 12,
   "id": "afbb06d4",
   "metadata": {},
   "outputs": [
    {
     "name": "stdout",
     "output_type": "stream",
     "text": [
      "\n",
      "Name : GP regression\n",
      "Objective : -4320.9674328787905\n",
      "Number of Parameters : 4\n",
      "Number of Optimization Parameters : 4\n",
      "Updates : True\n",
      "Parameters:\n",
      "  \u001b[1mGP_regression.         \u001b[0;0m  |                   value  |  constraints  |  priors\n",
      "  \u001b[1mrbf.variance           \u001b[0;0m  |      228665.32677421535  |      +ve      |        \n",
      "  \u001b[1mrbf.lengthscale        \u001b[0;0m  |                    (2,)  |      +ve      |        \n",
      "  \u001b[1mGaussian_noise.variance\u001b[0;0m  |  1.0535731775534103e-05  |      +ve      |        \n"
     ]
    }
   ],
   "source": [
    "m=GPy.models.GPRegression(X_train,Y_train,k)\n",
    "m.optimize()\n",
    "# m.optimize_restarts(num_restarts = 4)\n",
    "\n",
    "print(m)"
   ]
  },
  {
   "cell_type": "code",
   "execution_count": 14,
   "id": "47c1ebe5",
   "metadata": {},
   "outputs": [
    {
     "data": {
      "text/plain": [
       "array([0.5330548 , 7.72537898])"
      ]
     },
     "execution_count": 14,
     "metadata": {},
     "output_type": "execute_result"
    }
   ],
   "source": [
    "m.rbf.lengthscale.values"
   ]
  },
  {
   "cell_type": "code",
   "execution_count": 16,
   "id": "21e61a7a",
   "metadata": {},
   "outputs": [],
   "source": [
    "test_y=Y[1200:,:]\n",
    "test_x=X[1200:,:]\n",
    "mean,var=m.predict(test_x)"
   ]
  },
  {
   "cell_type": "code",
   "execution_count": 17,
   "id": "189d1b67",
   "metadata": {},
   "outputs": [
    {
     "name": "stdout",
     "output_type": "stream",
     "text": [
      "0.9999999801519718\n"
     ]
    }
   ],
   "source": [
    "from sklearn.metrics import r2_score\n",
    "print(r2_score(test_y,mean))"
   ]
  }
 ],
 "metadata": {
  "kernelspec": {
   "display_name": "Python 3 (ipykernel)",
   "language": "python",
   "name": "python3"
  },
  "language_info": {
   "codemirror_mode": {
    "name": "ipython",
    "version": 3
   },
   "file_extension": ".py",
   "mimetype": "text/x-python",
   "name": "python",
   "nbconvert_exporter": "python",
   "pygments_lexer": "ipython3",
   "version": "3.9.0"
  }
 },
 "nbformat": 4,
 "nbformat_minor": 5
}
