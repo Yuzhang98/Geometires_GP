{
 "cells": [
  {
   "cell_type": "code",
   "execution_count": 1,
   "id": "d8c7edc6",
   "metadata": {},
   "outputs": [
    {
     "name": "stderr",
     "output_type": "stream",
     "text": [
      "C:\\Users\\Yuzhang Ge\\anaconda3\\envs\\newenv\\lib\\site-packages\\scipy\\__init__.py:146: UserWarning: A NumPy version >=1.16.5 and <1.23.0 is required for this version of SciPy (detected version 1.23.3\n",
      "  warnings.warn(f\"A NumPy version >={np_minversion} and <{np_maxversion}\"\n"
     ]
    }
   ],
   "source": [
    "from sklearn.metrics.pairwise import euclidean_distances \n",
    "import tensorflow as tf\n",
    "import numpy as np\n",
    "import math\n",
    "dtype=tf.float64\n",
    "\n",
    "def time_kernel(X1,X2,l1,sig1):\n",
    "#     x1=np.delete(X1,time_axis-1,1)\n",
    "#     x2=np.delete(X2,time_axis-1,1)\n",
    "#     col=X1.shape[1]\n",
    "    \n",
    "#     x1=X1[:,:col-1]\n",
    "#     x2=X2[:,:col-1]\n",
    "    x1=tf.expand_dims(X1/l1,1)\n",
    "    x2=tf.expand_dims(X2/l1,0)\n",
    "    sub1=tf.square(x1-x2)\n",
    "    r1=tf.reduce_sum(sub1,axis=-1)\n",
    "    k1=sig1  * tf.exp(-0.5 * r1)\n",
    "    \n",
    "    return k1\n",
    "\n",
    "# def time_kernel1(X1,X2,l1,l2,sig1,sig2):\n",
    "# #     x1=np.delete(X1,time_axis-1,1)\n",
    "# #     x2=np.delete(X2,time_axis-1,1)\n",
    "#     col=X1.shape[1]\n",
    "    \n",
    "#     x1=X1[0::10,:col-1]\n",
    "#     x2=X2[0::10,:col-1]\n",
    "#     x1=tf.expand_dims(x1/l1,1)\n",
    "#     x2=tf.expand_dims(x2/l1,0)\n",
    "#     sub1=tf.square(x1-x2)\n",
    "#     r1=tf.reduce_sum(sub1,axis=-1)\n",
    "#     k1=sig1  * tf.exp(-0.5 * r1)\n",
    "    \n",
    "#     t1=X1[:10,col-1:]\n",
    "#     t2=X2[:10,col-1:]\n",
    "#     t1=tf.expand_dims(t1/l2,1)\n",
    "#     t2=tf.expand_dims(t2/l2,0)\n",
    "#     sub2=tf.abs(t1-t2)\n",
    "#     r2=tf.reduce_sum(sub2,axis=-1)\n",
    "#     a=np.sqrt(3)\n",
    "#     k2=sig2*(1.0+a*r2)*tf.exp(-a*r2)\n",
    "    \n",
    "#     return k1,k2\n",
    "\n",
    "class time_GPmodel():\n",
    "    def __init__(self,data,kernel,l1,sig1,likvar=0.1):\n",
    "        self.X = data[0]\n",
    "        self.Y = data[1]\n",
    "        self.sigma2 = likvar\n",
    "        self.kern = lambda X1,X2: kernel(X1,X2,l1,sig1)\n",
    "    def coeff_creation(self):\n",
    "        # K=self.kern.K(self.X,self.X)+self.sigma2*tf.eye(self.X.shape[0],self.X.shape[0],dtype=tf.float64)\n",
    "        K=self.kern(self.X,self.X)+self.sigma2*tf.eye(self.X.shape[0],self.X.shape[0],dtype=tf.float64)\n",
    "        L=tf.linalg.cholesky(K)\n",
    "        trm1=tf.linalg.triangular_solve(L,self.Y,lower=True)\n",
    "        self.coeffmu=tf.linalg.triangular_solve(tf.transpose(L),trm1,lower=False)\n",
    "        trm2=tf.linalg.triangular_solve(L,tf.eye(self.X.shape[0],self.X.shape[0],dtype=tf.float64),lower=True)\n",
    "        self.coeffvar=tf.linalg.triangular_solve(tf.transpose(L),trm2,lower=False)\n",
    "    def predict(self,Xtst,with_var=False):\n",
    "        Kstar=self.kern(Xtst,self.X)\n",
    "        Kstarstar=self.kern(Xtst,Xtst)\n",
    "        mu=tf.matmul(Kstar,self.coeffmu)\n",
    "        if with_var:\n",
    "            var=tf.linalg.diag_part(Kstarstar)\n",
    "            var-=tf.matmul(tf.matmul(Kstar,self.coeffvar),tf.transpose(Kstar))\n",
    "            var+=self.sigma2\n",
    "            return mu,var\n",
    "        else:\n",
    "            return mu"
   ]
  },
  {
   "cell_type": "code",
   "execution_count": 2,
   "id": "7e1da838",
   "metadata": {},
   "outputs": [],
   "source": [
    "import tensorflow_probability as tfp\n",
    "tfd = tfp.distributions \n",
    "\n",
    "def LogLik(Xtst,Ytst,models,cov):\n",
    "    pred=models.predict(Xtst)\n",
    "#     scale = tf.linalg.cholesky(cov)\n",
    "#     loglik=tf.reduce_sum(tfd.MultivariateNormalTriL(loc=pred,scale_tril=scale).log_prob(Ytst))\n",
    "    loglik=tf.reduce_sum(tfd.Normal(loc=pred,scale=1.0).log_prob(Ytst))\n",
    "    return loglik\n",
    "\n",
    "def PriorMaker(min,max):\n",
    "    def prior(a,b):\n",
    "        apr=tfd.Uniform(np.float64(min[0]),np.float64(max[0])).log_prob(a)\n",
    "        bpr=tfd.Uniform(np.float64(min[1]),np.float64(max[1])).log_prob(b)\n",
    "#         cpr=tfd.Uniform(np.float64(min[2]),np.float64(max[2])).log_prob(c)\n",
    "#         dpr=tfd.Uniform(np.float64(min[3]),np.float64(max[3])).log_prob(d)\n",
    "        # sigpr=tfd.InverseGamma(np.float64(0.001),np.float64(0.001)).log_prob(sig)\n",
    "        return tf.reduce_sum(apr+bpr)\n",
    "    return prior\n",
    "\n",
    "def target(a,b,Ytst,cov,models,prior):\n",
    "#     A=tf.concat([a]*10,axis=0)\n",
    "#     B=tf.concat([b]*10,axis=0)\n",
    "#     C=tf.concat([c]*10,axis=0)\n",
    "#     D=tf.concat([d]*10,axis=0)\n",
    "    x=tf.concat([a,b],axis=1)\n",
    "    lik=LogLik(x,Ytst,models,cov)\n",
    "    pr=prior(a,b)\n",
    "    return tf.reduce_sum(lik)"
   ]
  },
  {
   "cell_type": "code",
   "execution_count": 3,
   "id": "b17f46dc",
   "metadata": {},
   "outputs": [],
   "source": [
    "import pickle \n",
    "file1 = open('X_time_2000', 'rb')\n",
    "file2 = open('Y_time_2000', 'rb')\n",
    "X=pickle.load(file1)\n",
    "file1.close()\n",
    "Y=pickle.load(file2)\n",
    "file2.close()\n",
    "\n",
    "X1=X[9::10,:2]\n",
    "Y1=Y[9::10]\n",
    "\n",
    "train_x=X1[:1200,:]\n",
    "train_y=Y1[:1200]"
   ]
  },
  {
   "cell_type": "code",
   "execution_count": 12,
   "id": "f1510302",
   "metadata": {},
   "outputs": [
    {
     "data": {
      "text/plain": [
       "(array([20, 52, 76], dtype=int64),)"
      ]
     },
     "execution_count": 12,
     "metadata": {},
     "output_type": "execute_result"
    }
   ],
   "source": [
    "np.where((X1[1200:1300,0]>4.0) & (X1[1200:1300,1]<1.0))"
   ]
  },
  {
   "cell_type": "code",
   "execution_count": null,
   "id": "2230df31",
   "metadata": {},
   "outputs": [],
   "source": []
  },
  {
   "cell_type": "code",
   "execution_count": 18,
   "id": "b95841f3",
   "metadata": {},
   "outputs": [],
   "source": [
    "data=[train_x,train_y]\n",
    "M=time_GPmodel(data,time_kernel,l1=[0.5330548 , 7.72537898],sig1=228665.32677421535)\n",
    "M.coeff_creation()"
   ]
  },
  {
   "cell_type": "code",
   "execution_count": 19,
   "id": "76d80474",
   "metadata": {},
   "outputs": [],
   "source": [
    "testx=X1[1200:,:]\n",
    "testy=Y1[1200:]\n",
    "mean=M.predict(testx)"
   ]
  },
  {
   "cell_type": "code",
   "execution_count": 32,
   "id": "3ec98d6e",
   "metadata": {
    "scrolled": true
   },
   "outputs": [
    {
     "data": {
      "text/plain": [
       "array([4.47993579, 0.85641357])"
      ]
     },
     "execution_count": 32,
     "metadata": {},
     "output_type": "execute_result"
    }
   ],
   "source": [
    "testx[20]"
   ]
  },
  {
   "cell_type": "code",
   "execution_count": 33,
   "id": "b07d2e0f",
   "metadata": {},
   "outputs": [
    {
     "name": "stdout",
     "output_type": "stream",
     "text": [
      "0.9999998127980289\n"
     ]
    }
   ],
   "source": [
    "from sklearn.metrics import r2_score\n",
    "print(r2_score(testy,mean))"
   ]
  },
  {
   "cell_type": "code",
   "execution_count": 49,
   "id": "ddd379b9",
   "metadata": {},
   "outputs": [],
   "source": [
    "test_y=Y1[1220:1221,:].reshape((-1,1))\n",
    "test_x=X1[1220:1221,:]\n",
    "\n",
    "# cov=np.float64([[0.2,48.62,48.62],\n",
    "#                 [48.62,0.2,48.62],\n",
    "#                 [48.62,48.62,0.2]])\n",
    "cov=np.float64(1.0) "
   ]
  },
  {
   "cell_type": "code",
   "execution_count": 50,
   "id": "21f92cdb",
   "metadata": {},
   "outputs": [
    {
     "data": {
      "text/plain": [
       "array([[4.47993579, 0.85641357]])"
      ]
     },
     "execution_count": 50,
     "metadata": {},
     "output_type": "execute_result"
    }
   ],
   "source": [
    "test_x"
   ]
  },
  {
   "cell_type": "code",
   "execution_count": 51,
   "id": "b48f1776",
   "metadata": {},
   "outputs": [],
   "source": [
    "min=np.float64([0.1,0.1])\n",
    "max=np.float64([5,5])\n",
    "# min=np.float64([[0.1,0.1,0.1,0.1],[0.1,0.1,0.1,0.1]])\n",
    "# max=np.float64([[10,10,10,10],[10,10,10,10]])\n",
    "\n",
    "prior=PriorMaker(min,max)"
   ]
  },
  {
   "cell_type": "code",
   "execution_count": 52,
   "id": "09626204",
   "metadata": {},
   "outputs": [],
   "source": [
    "Posterior=lambda a,b: target(a=a,b=b,Ytst=test_y,cov=cov,models=M,prior=prior)\n",
    "def BijectionMaker(min,max,log):\n",
    "    bij=[]\n",
    "    if log:\n",
    "        for i in range(2):\n",
    "            bij.append(tfb.Chain([tfb.Log(),tfb.Sigmoid(low=min[i],high=max[i])]))\n",
    "    else:\n",
    "        for i in range(2):\n",
    "            bij.append(tfb.Shift(tf.cast(min[i],tf.float64))(tfb.Scale(tf.cast((max[i])-(min[i]),tf.float64))( tfb.Reciprocal()(\n",
    "                tfb.Shift(tf.cast(1.,tf.float64))(\n",
    "                  tfb.Exp()(\n",
    "                    tfb.Scale(tf.cast(-1.,tf.float64))))))))\n",
    "    # bij.append(tfb.Exp())\n",
    "    return bij"
   ]
  },
  {
   "cell_type": "code",
   "execution_count": 53,
   "id": "f66b0ff3",
   "metadata": {},
   "outputs": [],
   "source": [
    "tfb=tfp.bijectors\n",
    "bijector=BijectionMaker(min,max,0)\n",
    "\n",
    "def step_size_setter_fn(kernel_results, new_step_size):\n",
    "    pars=kernel_results.inner_results\n",
    "    pars=pars._replace(\n",
    "            step_size=new_step_size)\n",
    "    return kernel_results._replace(\n",
    "            inner_results=pars)\n",
    "\n",
    "\n",
    "def step_size_getter_fn(kernel_results):\n",
    "    return tf.cast(ss, dtype)# for ss in kernel_results.inner_results.step_size]\n",
    "\n",
    "\n",
    "def log_accept_prob_getter_fn(kernel_results):\n",
    "    return kernel_results.inner_results.log_accept_ratio\n",
    "\n",
    "def NutsAdaptiveKernel(FinalTarget,nburn,BIJ):\n",
    "    nuts=tfp.mcmc.NoUTurnSampler(\n",
    "    target_log_prob_fn=FinalTarget,\n",
    "    step_size=tf.cast(0.01,tf.float64),max_tree_depth=11)\n",
    "    TransNuts= tfp.mcmc.TransformedTransitionKernel(\n",
    "    inner_kernel=nuts,\n",
    "    bijector=BIJ)\n",
    "    return tfp.mcmc.DualAveragingStepSizeAdaptation(\n",
    "    TransNuts,\n",
    "    num_adaptation_steps=int(nburn*0.8),\n",
    "    step_size_setter_fn=lambda pkr, new_step_size: pkr._replace(\n",
    "            inner_results=pkr.inner_results._replace(step_size=new_step_size)),\n",
    "    step_size_getter_fn=lambda pkr: pkr.inner_results.step_size,\n",
    "    log_accept_prob_getter_fn=lambda pkr: pkr.inner_results.log_accept_ratio,\n",
    "    target_accept_prob=tf.cast(.9, dtype),\n",
    "    decay_rate=tf.cast(.75, dtype)\n",
    ")\n"
   ]
  },
  {
   "cell_type": "code",
   "execution_count": 54,
   "id": "705ab343",
   "metadata": {},
   "outputs": [
    {
     "data": {
      "text/plain": [
       "[<tf.Variable 'Variable:0' shape=(1, 1) dtype=float64, numpy=array([[0.13546135]])>,\n",
       " <tf.Variable 'Variable:0' shape=(1, 1) dtype=float64, numpy=array([[1.11212332]])>]"
      ]
     },
     "execution_count": 54,
     "metadata": {},
     "output_type": "execute_result"
    }
   ],
   "source": [
    "nb=5000\n",
    "ns=5000\n",
    "num_chains=2\n",
    "kernel=NutsAdaptiveKernel(Posterior,nb,bijector)\n",
    "IniState=[]\n",
    "for i in range(2):\n",
    "    IniState.append(tf.Variable(np.float64([[1]])))\n",
    "\n",
    "IniState[0].assign(np.random.uniform(0.1,5,[1,1]))\n",
    "IniState[1].assign(np.random.uniform(0.1,5,[1,1]))\n",
    "\n",
    "\n",
    "IniState"
   ]
  },
  {
   "cell_type": "code",
   "execution_count": 55,
   "id": "75a037f5",
   "metadata": {},
   "outputs": [
    {
     "name": "stdout",
     "output_type": "stream",
     "text": [
      "(2, 10000, 1, 1)\n"
     ]
    }
   ],
   "source": [
    "@tf.function(experimental_compile=True)\n",
    "def RunNuts(kern,init_state,nburn,nsamp):\n",
    "    return tfp.mcmc.sample_chain(\n",
    "    num_results=nsamp+nburn,\n",
    "    num_burnin_steps=300,\n",
    "    current_state=init_state,\n",
    "    trace_fn=None,\n",
    "    kernel=kern\n",
    "    )\n",
    "\n",
    "states=RunNuts(kernel,IniState,nb,ns)\n",
    "print(np.array(states).shape)"
   ]
  },
  {
   "cell_type": "code",
   "execution_count": 56,
   "id": "efd78fd3",
   "metadata": {
    "scrolled": true
   },
   "outputs": [
    {
     "data": {
      "text/plain": [
       "array([4.47993579, 0.85641357])"
      ]
     },
     "execution_count": 56,
     "metadata": {},
     "output_type": "execute_result"
    }
   ],
   "source": [
    "test_x[0,:2]"
   ]
  },
  {
   "cell_type": "code",
   "execution_count": 45,
   "id": "860caef5",
   "metadata": {},
   "outputs": [],
   "source": [
    "Samples=np.concatenate([x.numpy().reshape([10000,x.shape[2]]) for x in states],axis=1)\n",
    "z=np.mean(Samples,axis=0)"
   ]
  },
  {
   "cell_type": "code",
   "execution_count": 46,
   "id": "58b0ad5b",
   "metadata": {},
   "outputs": [
    {
     "data": {
      "text/plain": [
       "array([3.71449782, 2.57619673])"
      ]
     },
     "execution_count": 46,
     "metadata": {},
     "output_type": "execute_result"
    }
   ],
   "source": [
    "z"
   ]
  },
  {
   "cell_type": "code",
   "execution_count": 47,
   "id": "94ac4791",
   "metadata": {
    "scrolled": true
   },
   "outputs": [
    {
     "data": {
      "image/png": "[encoded data removed]",
      "text/plain": [
       "<Figure size 360x360 with 1 Axes>"
      ]
     },
     "metadata": {
      "needs_background": "light"
     },
     "output_type": "display_data"
    }
   ],
   "source": [
    "import seaborn as sns\n",
    "import matplotlib.pyplot as plt\n",
    "\n",
    "p=sns.displot(Samples[:,0],kind=\"kde\",legend=False)\n",
    "plt.axvline(test_x[0,0],color='red')\n",
    "p.set_xlabels('a',fontsize=18)\n",
    "p.set_ylabels(fontsize=18)\n",
    "plt.xticks(fontsize=18);\n",
    "plt.yticks(fontsize=18);"
   ]
  },
  {
   "cell_type": "code",
   "execution_count": 48,
   "id": "5b64ea06",
   "metadata": {
    "scrolled": true
   },
   "outputs": [
    {
     "data": {
      "image/png": "[encoded data removed]",
      "text/plain": [
       "<Figure size 360x360 with 1 Axes>"
      ]
     },
     "metadata": {
      "needs_background": "light"
     },
     "output_type": "display_data"
    }
   ],
   "source": [
    "import seaborn as sns\n",
    "import matplotlib.pyplot as plt\n",
    "\n",
    "p=sns.displot(Samples[:,1],kind=\"kde\",legend=False)\n",
    "plt.axvline(test_x[0,1],color='red')\n",
    "p.set_xlabels('b',fontsize=18)\n",
    "p.set_ylabels(fontsize=18)\n",
    "plt.xticks(fontsize=18);\n",
    "plt.yticks(fontsize=18);"
   ]
  },
  {
   "cell_type": "code",
   "execution_count": 57,
   "id": "b10b199c",
   "metadata": {},
   "outputs": [],
   "source": [
    "import pickle\n",
    "file1 = open('results/sample_6_1', 'wb')\n",
    "pickle.dump(Samples, file1)\n",
    "file1.close()\n",
    "\n",
    "file2 = open('results/test_6_1', 'wb')\n",
    "pickle.dump(test_x[0], file2)\n",
    "file2.close()"
   ]
  }
 ],
 "metadata": {
  "kernelspec": {
   "display_name": "Python 3 (ipykernel)",
   "language": "python",
   "name": "python3"
  },
  "language_info": {
   "codemirror_mode": {
    "name": "ipython",
    "version": 3
   },
   "file_extension": ".py",
   "mimetype": "text/x-python",
   "name": "python",
   "nbconvert_exporter": "python",
   "pygments_lexer": "ipython3",
   "version": "3.9.0"
  }
 },
 "nbformat": 4,
 "nbformat_minor": 5
}
